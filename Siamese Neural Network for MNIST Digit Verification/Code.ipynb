{
 "cells": [
  {
   "cell_type": "markdown",
   "id": "57458c34",
   "metadata": {
    "papermill": {
     "duration": 0.007194,
     "end_time": "2023-07-03T09:41:34.299600",
     "exception": false,
     "start_time": "2023-07-03T09:41:34.292406",
     "status": "completed"
    },
    "tags": []
   },
   "source": [
    "## Load MNIST digits dataset"
   ]
  },
  {
   "cell_type": "code",
   "execution_count": 1,
   "id": "bc062aa4",
   "metadata": {
    "execution": {
     "iopub.execute_input": "2023-07-03T09:41:34.315716Z",
     "iopub.status.busy": "2023-07-03T09:41:34.314930Z",
     "iopub.status.idle": "2023-07-03T09:41:43.491981Z",
     "shell.execute_reply": "2023-07-03T09:41:43.490953Z"
    },
    "papermill": {
     "duration": 9.187433,
     "end_time": "2023-07-03T09:41:43.494099",
     "exception": false,
     "start_time": "2023-07-03T09:41:34.306666",
     "status": "completed"
    },
    "tags": []
   },
   "outputs": [
    {
     "name": "stderr",
     "output_type": "stream",
     "text": [
      "/opt/conda/lib/python3.10/site-packages/tensorflow_io/python/ops/__init__.py:98: UserWarning: unable to load libtensorflow_io_plugins.so: unable to open file: libtensorflow_io_plugins.so, from paths: ['/opt/conda/lib/python3.10/site-packages/tensorflow_io/python/ops/libtensorflow_io_plugins.so']\n",
      "caused by: ['/opt/conda/lib/python3.10/site-packages/tensorflow_io/python/ops/libtensorflow_io_plugins.so: undefined symbol: _ZN3tsl6StatusC1EN10tensorflow5error4CodeESt17basic_string_viewIcSt11char_traitsIcEENS_14SourceLocationE']\n",
      "  warnings.warn(f\"unable to load libtensorflow_io_plugins.so: {e}\")\n",
      "/opt/conda/lib/python3.10/site-packages/tensorflow_io/python/ops/__init__.py:104: UserWarning: file system plugins are not loaded: unable to open file: libtensorflow_io.so, from paths: ['/opt/conda/lib/python3.10/site-packages/tensorflow_io/python/ops/libtensorflow_io.so']\n",
      "caused by: ['/opt/conda/lib/python3.10/site-packages/tensorflow_io/python/ops/libtensorflow_io.so: undefined symbol: _ZTVN10tensorflow13GcsFileSystemE']\n",
      "  warnings.warn(f\"file system plugins are not loaded: {e}\")\n"
     ]
    },
    {
     "name": "stdout",
     "output_type": "stream",
     "text": [
      "Downloading data from https://storage.googleapis.com/tensorflow/tf-keras-datasets/mnist.npz\n",
      "11490434/11490434 [==============================] - 1s 0us/step\n"
     ]
    },
    {
     "data": {
      "text/plain": [
       "((60000, 28, 28), (60000,), (10000, 28, 28), (10000,))"
      ]
     },
     "execution_count": 1,
     "metadata": {},
     "output_type": "execute_result"
    }
   ],
   "source": [
    "import tensorflow as tf  # Import TensorFlow library\n",
    "\n",
    "# Load MNIST dataset\n",
    "mnist = tf.keras.datasets.mnist\n",
    "(X_train, y_train), (X_test, y_test) = mnist.load_data()\n",
    "\n",
    "# Output the shapes of training and testing data\n",
    "X_train.shape, y_train.shape, X_test.shape, y_test.shape"
   ]
  },
  {
   "cell_type": "markdown",
   "id": "8e0648f3",
   "metadata": {
    "papermill": {
     "duration": 0.007961,
     "end_time": "2023-07-03T09:41:43.510408",
     "exception": false,
     "start_time": "2023-07-03T09:41:43.502447",
     "status": "completed"
    },
    "tags": []
   },
   "source": [
    "## Building Siamese Neural Network for Image Comparison"
   ]
  },
  {
   "cell_type": "code",
   "execution_count": 2,
   "id": "b4afb873",
   "metadata": {
    "execution": {
     "iopub.execute_input": "2023-07-03T09:41:43.529086Z",
     "iopub.status.busy": "2023-07-03T09:41:43.527823Z",
     "iopub.status.idle": "2023-07-03T09:41:46.921237Z",
     "shell.execute_reply": "2023-07-03T09:41:46.920348Z"
    },
    "papermill": {
     "duration": 3.410661,
     "end_time": "2023-07-03T09:41:46.929276",
     "exception": false,
     "start_time": "2023-07-03T09:41:43.518615",
     "status": "completed"
    },
    "tags": []
   },
   "outputs": [
    {
     "name": "stdout",
     "output_type": "stream",
     "text": [
      "Model: \"model\"\n",
      "__________________________________________________________________________________________________\n",
      " Layer (type)                   Output Shape         Param #     Connected to                     \n",
      "==================================================================================================\n",
      " img_A_inp (InputLayer)         [(None, 28, 28)]     0           []                               \n",
      "                                                                                                  \n",
      " img_B_inp (InputLayer)         [(None, 28, 28)]     0           []                               \n",
      "                                                                                                  \n",
      " sequential (Sequential)        (None, 64)           1586496     ['img_A_inp[0][0]',              \n",
      "                                                                  'img_B_inp[0][0]']              \n",
      "                                                                                                  \n",
      " concatenate (Concatenate)      (None, 128)          0           ['sequential[0][0]',             \n",
      "                                                                  'sequential[1][0]']             \n",
      "                                                                                                  \n",
      " dense_1 (Dense)                (None, 64)           8256        ['concatenate[0][0]']            \n",
      "                                                                                                  \n",
      " dense_2 (Dense)                (None, 1)            65          ['dense_1[0][0]']                \n",
      "                                                                                                  \n",
      "==================================================================================================\n",
      "Total params: 1,594,817\n",
      "Trainable params: 1,592,897\n",
      "Non-trainable params: 1,920\n",
      "__________________________________________________________________________________________________\n"
     ]
    }
   ],
   "source": [
    "from tensorflow.keras.layers import Input, Conv2D, BatchNormalization, ReLU, Reshape, Dense\n",
    "from tensorflow.keras.layers import GlobalAveragePooling2D, Concatenate\n",
    "from tensorflow.keras.models import Model\n",
    "from tensorflow.keras import Sequential\n",
    "\n",
    "# Create input placeholders\n",
    "input_shape = (28, 28)\n",
    "img_A_inp = Input(shape=input_shape, name='img_A_inp')\n",
    "img_B_inp = Input(shape=input_shape, name='img_B_inp')\n",
    "\n",
    "# Function to create a CNN block\n",
    "def create_cnn_block(depth):\n",
    "    model = Sequential()\n",
    "    model.add(Conv2D(depth, kernel_size=3, strides=1))\n",
    "    model.add(BatchNormalization())\n",
    "    model.add(ReLU())\n",
    "    return model\n",
    "\n",
    "# Create the shared CNN\n",
    "cnn = Sequential()\n",
    "cnn.add(Reshape((28, 28, 1)))\n",
    "\n",
    "DEPTH = 64\n",
    "cnn.add(create_cnn_block(DEPTH))\n",
    "cnn.add(create_cnn_block(DEPTH*2))\n",
    "cnn.add(create_cnn_block(DEPTH*4))\n",
    "cnn.add(create_cnn_block(DEPTH*8))\n",
    "cnn.add(GlobalAveragePooling2D())\n",
    "cnn.add(Dense(64, activation='relu'))\n",
    "\n",
    "# Apply the shared CNN to both inputs\n",
    "feature_vector_A = cnn(img_A_inp)\n",
    "feature_vector_B = cnn(img_B_inp)\n",
    "\n",
    "# Concatenate feature vectors from both images\n",
    "concat = Concatenate()([feature_vector_A, feature_vector_B])\n",
    "\n",
    "# Add a Dense layer to perform final classification\n",
    "dense = Dense(64, activation='relu')(concat)\n",
    "output = Dense(1, activation='sigmoid')(dense)\n",
    "\n",
    "# Create the final model\n",
    "model = Model(inputs=[img_A_inp, img_B_inp], outputs=output)\n",
    "\n",
    "# Print a summary of the model\n",
    "model.summary()"
   ]
  },
  {
   "cell_type": "markdown",
   "id": "adb8ea94",
   "metadata": {
    "papermill": {
     "duration": 0.00998,
     "end_time": "2023-07-03T09:41:46.949310",
     "exception": false,
     "start_time": "2023-07-03T09:41:46.939330",
     "status": "completed"
    },
    "tags": []
   },
   "source": [
    "## Random Sampling & Dimension Confirmation of Training Images and Labels"
   ]
  },
  {
   "cell_type": "code",
   "execution_count": 3,
   "id": "1e140266",
   "metadata": {
    "execution": {
     "iopub.execute_input": "2023-07-03T09:41:46.970572Z",
     "iopub.status.busy": "2023-07-03T09:41:46.970234Z",
     "iopub.status.idle": "2023-07-03T09:41:46.979084Z",
     "shell.execute_reply": "2023-07-03T09:41:46.978187Z"
    },
    "papermill": {
     "duration": 0.021808,
     "end_time": "2023-07-03T09:41:46.981026",
     "exception": false,
     "start_time": "2023-07-03T09:41:46.959218",
     "status": "completed"
    },
    "tags": []
   },
   "outputs": [
    {
     "data": {
      "text/plain": [
       "((300, 28, 28), (300,))"
      ]
     },
     "execution_count": 3,
     "metadata": {},
     "output_type": "execute_result"
    }
   ],
   "source": [
    "import numpy as np\n",
    "\n",
    "# Randomly select 300 indices from the number of training examples\n",
    "random_indices = np.random.choice(X_train.shape[0], 300, replace=False)\n",
    "\n",
    "# Use these indices to select a random sample of 300 images and their corresponding labels\n",
    "X_train_sample, y_train_sample = X_train[random_indices], y_train[random_indices]\n",
    "\n",
    "# Print the shapes of the sampled images and labels to confirm their dimensions\n",
    "X_train_sample.shape, y_train_sample.shape"
   ]
  },
  {
   "cell_type": "markdown",
   "id": "88a7a4d6",
   "metadata": {
    "papermill": {
     "duration": 0.009789,
     "end_time": "2023-07-03T09:41:47.000882",
     "exception": false,
     "start_time": "2023-07-03T09:41:46.991093",
     "status": "completed"
    },
    "tags": []
   },
   "source": [
    "## Possible pairs for Siamese network"
   ]
  },
  {
   "cell_type": "code",
   "execution_count": 4,
   "id": "9774ab2f",
   "metadata": {
    "execution": {
     "iopub.execute_input": "2023-07-03T09:41:47.022678Z",
     "iopub.status.busy": "2023-07-03T09:41:47.022341Z",
     "iopub.status.idle": "2023-07-03T09:41:47.028117Z",
     "shell.execute_reply": "2023-07-03T09:41:47.027239Z"
    },
    "papermill": {
     "duration": 0.018994,
     "end_time": "2023-07-03T09:41:47.030081",
     "exception": false,
     "start_time": "2023-07-03T09:41:47.011087",
     "status": "completed"
    },
    "tags": []
   },
   "outputs": [
    {
     "data": {
      "text/plain": [
       "90000"
      ]
     },
     "execution_count": 4,
     "metadata": {},
     "output_type": "execute_result"
    }
   ],
   "source": [
    "# Calculate and return the square of the number of training samples \n",
    "len(X_train_sample) ** 2\n"
   ]
  },
  {
   "cell_type": "markdown",
   "id": "bd04c5f0",
   "metadata": {
    "papermill": {
     "duration": 0.009954,
     "end_time": "2023-07-03T09:41:47.050110",
     "exception": false,
     "start_time": "2023-07-03T09:41:47.040156",
     "status": "completed"
    },
    "tags": []
   },
   "source": [
    "## Generate pairs of images,labels to train Siamese Network"
   ]
  },
  {
   "cell_type": "code",
   "execution_count": 5,
   "id": "f8abc7f4",
   "metadata": {
    "execution": {
     "iopub.execute_input": "2023-07-03T09:41:47.074238Z",
     "iopub.status.busy": "2023-07-03T09:41:47.073874Z",
     "iopub.status.idle": "2023-07-03T09:41:47.080288Z",
     "shell.execute_reply": "2023-07-03T09:41:47.079393Z"
    },
    "papermill": {
     "duration": 0.019678,
     "end_time": "2023-07-03T09:41:47.082383",
     "exception": false,
     "start_time": "2023-07-03T09:41:47.062705",
     "status": "completed"
    },
    "tags": []
   },
   "outputs": [],
   "source": [
    "def make_paired_dataset(X, y):\n",
    "  # Get the total number of samples\n",
    "  num_samples = len(X)\n",
    "  \n",
    "  # Initialize lists for storing pairs of images and their labels\n",
    "  X_pairs, y_pairs = [], []\n",
    "\n",
    "  # Loop over all samples\n",
    "  for i in range(num_samples):\n",
    "    # For each sample, loop over all other samples to create pairs\n",
    "    for j in range(num_samples):\n",
    "      # Append the pair of images and their similarity label \n",
    "      #(1 if same class, 0 if different)\n",
    "      X_pairs.append([X[i], X[j]])\n",
    "      y_pairs.append(int(y[i] == y[j]))\n",
    "\n",
    "  # Convert lists of pairs to numpy arrays\n",
    "  X_pairs = np.array(X_pairs)\n",
    "  y_pairs = np.array(y_pairs)\n",
    "\n",
    "  # Return paired images and their labels\n",
    "  return X_pairs, y_pairs"
   ]
  },
  {
   "cell_type": "markdown",
   "id": "30c3d33c",
   "metadata": {
    "papermill": {
     "duration": 0.01003,
     "end_time": "2023-07-03T09:41:47.102541",
     "exception": false,
     "start_time": "2023-07-03T09:41:47.092511",
     "status": "completed"
    },
    "tags": []
   },
   "source": [
    "## Function call"
   ]
  },
  {
   "cell_type": "code",
   "execution_count": 6,
   "id": "155e73c0",
   "metadata": {
    "execution": {
     "iopub.execute_input": "2023-07-03T09:41:47.125431Z",
     "iopub.status.busy": "2023-07-03T09:41:47.124542Z",
     "iopub.status.idle": "2023-07-03T09:41:47.501554Z",
     "shell.execute_reply": "2023-07-03T09:41:47.500498Z"
    },
    "papermill": {
     "duration": 0.39142,
     "end_time": "2023-07-03T09:41:47.504307",
     "exception": false,
     "start_time": "2023-07-03T09:41:47.112887",
     "status": "completed"
    },
    "tags": []
   },
   "outputs": [
    {
     "data": {
      "text/plain": [
       "(array([[[[0, 0, 0, ..., 0, 0, 0],\n",
       "          [0, 0, 0, ..., 0, 0, 0],\n",
       "          [0, 0, 0, ..., 0, 0, 0],\n",
       "          ...,\n",
       "          [0, 0, 0, ..., 0, 0, 0],\n",
       "          [0, 0, 0, ..., 0, 0, 0],\n",
       "          [0, 0, 0, ..., 0, 0, 0]],\n",
       " \n",
       "         [[0, 0, 0, ..., 0, 0, 0],\n",
       "          [0, 0, 0, ..., 0, 0, 0],\n",
       "          [0, 0, 0, ..., 0, 0, 0],\n",
       "          ...,\n",
       "          [0, 0, 0, ..., 0, 0, 0],\n",
       "          [0, 0, 0, ..., 0, 0, 0],\n",
       "          [0, 0, 0, ..., 0, 0, 0]]],\n",
       " \n",
       " \n",
       "        [[[0, 0, 0, ..., 0, 0, 0],\n",
       "          [0, 0, 0, ..., 0, 0, 0],\n",
       "          [0, 0, 0, ..., 0, 0, 0],\n",
       "          ...,\n",
       "          [0, 0, 0, ..., 0, 0, 0],\n",
       "          [0, 0, 0, ..., 0, 0, 0],\n",
       "          [0, 0, 0, ..., 0, 0, 0]],\n",
       " \n",
       "         [[0, 0, 0, ..., 0, 0, 0],\n",
       "          [0, 0, 0, ..., 0, 0, 0],\n",
       "          [0, 0, 0, ..., 0, 0, 0],\n",
       "          ...,\n",
       "          [0, 0, 0, ..., 0, 0, 0],\n",
       "          [0, 0, 0, ..., 0, 0, 0],\n",
       "          [0, 0, 0, ..., 0, 0, 0]]],\n",
       " \n",
       " \n",
       "        [[[0, 0, 0, ..., 0, 0, 0],\n",
       "          [0, 0, 0, ..., 0, 0, 0],\n",
       "          [0, 0, 0, ..., 0, 0, 0],\n",
       "          ...,\n",
       "          [0, 0, 0, ..., 0, 0, 0],\n",
       "          [0, 0, 0, ..., 0, 0, 0],\n",
       "          [0, 0, 0, ..., 0, 0, 0]],\n",
       " \n",
       "         [[0, 0, 0, ..., 0, 0, 0],\n",
       "          [0, 0, 0, ..., 0, 0, 0],\n",
       "          [0, 0, 0, ..., 0, 0, 0],\n",
       "          ...,\n",
       "          [0, 0, 0, ..., 0, 0, 0],\n",
       "          [0, 0, 0, ..., 0, 0, 0],\n",
       "          [0, 0, 0, ..., 0, 0, 0]]],\n",
       " \n",
       " \n",
       "        ...,\n",
       " \n",
       " \n",
       "        [[[0, 0, 0, ..., 0, 0, 0],\n",
       "          [0, 0, 0, ..., 0, 0, 0],\n",
       "          [0, 0, 0, ..., 0, 0, 0],\n",
       "          ...,\n",
       "          [0, 0, 0, ..., 0, 0, 0],\n",
       "          [0, 0, 0, ..., 0, 0, 0],\n",
       "          [0, 0, 0, ..., 0, 0, 0]],\n",
       " \n",
       "         [[0, 0, 0, ..., 0, 0, 0],\n",
       "          [0, 0, 0, ..., 0, 0, 0],\n",
       "          [0, 0, 0, ..., 0, 0, 0],\n",
       "          ...,\n",
       "          [0, 0, 0, ..., 0, 0, 0],\n",
       "          [0, 0, 0, ..., 0, 0, 0],\n",
       "          [0, 0, 0, ..., 0, 0, 0]]],\n",
       " \n",
       " \n",
       "        [[[0, 0, 0, ..., 0, 0, 0],\n",
       "          [0, 0, 0, ..., 0, 0, 0],\n",
       "          [0, 0, 0, ..., 0, 0, 0],\n",
       "          ...,\n",
       "          [0, 0, 0, ..., 0, 0, 0],\n",
       "          [0, 0, 0, ..., 0, 0, 0],\n",
       "          [0, 0, 0, ..., 0, 0, 0]],\n",
       " \n",
       "         [[0, 0, 0, ..., 0, 0, 0],\n",
       "          [0, 0, 0, ..., 0, 0, 0],\n",
       "          [0, 0, 0, ..., 0, 0, 0],\n",
       "          ...,\n",
       "          [0, 0, 0, ..., 0, 0, 0],\n",
       "          [0, 0, 0, ..., 0, 0, 0],\n",
       "          [0, 0, 0, ..., 0, 0, 0]]],\n",
       " \n",
       " \n",
       "        [[[0, 0, 0, ..., 0, 0, 0],\n",
       "          [0, 0, 0, ..., 0, 0, 0],\n",
       "          [0, 0, 0, ..., 0, 0, 0],\n",
       "          ...,\n",
       "          [0, 0, 0, ..., 0, 0, 0],\n",
       "          [0, 0, 0, ..., 0, 0, 0],\n",
       "          [0, 0, 0, ..., 0, 0, 0]],\n",
       " \n",
       "         [[0, 0, 0, ..., 0, 0, 0],\n",
       "          [0, 0, 0, ..., 0, 0, 0],\n",
       "          [0, 0, 0, ..., 0, 0, 0],\n",
       "          ...,\n",
       "          [0, 0, 0, ..., 0, 0, 0],\n",
       "          [0, 0, 0, ..., 0, 0, 0],\n",
       "          [0, 0, 0, ..., 0, 0, 0]]]], dtype=uint8),\n",
       " array([1, 0, 0, ..., 0, 1, 1]))"
      ]
     },
     "execution_count": 6,
     "metadata": {},
     "output_type": "execute_result"
    }
   ],
   "source": [
    "make_paired_dataset(X_train_sample, y_train_sample)"
   ]
  },
  {
   "cell_type": "code",
   "execution_count": 7,
   "id": "19ad58da",
   "metadata": {
    "execution": {
     "iopub.execute_input": "2023-07-03T09:41:47.529105Z",
     "iopub.status.busy": "2023-07-03T09:41:47.528762Z",
     "iopub.status.idle": "2023-07-03T09:41:48.109393Z",
     "shell.execute_reply": "2023-07-03T09:41:48.108313Z"
    },
    "papermill": {
     "duration": 0.595266,
     "end_time": "2023-07-03T09:41:48.111980",
     "exception": false,
     "start_time": "2023-07-03T09:41:47.516714",
     "status": "completed"
    },
    "tags": []
   },
   "outputs": [
    {
     "data": {
      "text/plain": [
       "((90000, 2, 28, 28), (90000,))"
      ]
     },
     "execution_count": 7,
     "metadata": {},
     "output_type": "execute_result"
    }
   ],
   "source": [
    "X_train_pairs, y_train_pairs = make_paired_dataset(X_train_sample, y_train_sample)\n",
    "\n",
    "X_train_pairs.shape, y_train_pairs.shape"
   ]
  },
  {
   "cell_type": "markdown",
   "id": "3b561794",
   "metadata": {
    "papermill": {
     "duration": 0.010197,
     "end_time": "2023-07-03T09:41:48.132775",
     "exception": false,
     "start_time": "2023-07-03T09:41:48.122578",
     "status": "completed"
    },
    "tags": []
   },
   "source": [
    "## Random Sampling of Test Images, Labels for Evaluation"
   ]
  },
  {
   "cell_type": "code",
   "execution_count": 8,
   "id": "966203d7",
   "metadata": {
    "execution": {
     "iopub.execute_input": "2023-07-03T09:41:48.155342Z",
     "iopub.status.busy": "2023-07-03T09:41:48.154518Z",
     "iopub.status.idle": "2023-07-03T09:41:48.162678Z",
     "shell.execute_reply": "2023-07-03T09:41:48.161704Z"
    },
    "papermill": {
     "duration": 0.021643,
     "end_time": "2023-07-03T09:41:48.164660",
     "exception": false,
     "start_time": "2023-07-03T09:41:48.143017",
     "status": "completed"
    },
    "tags": []
   },
   "outputs": [
    {
     "data": {
      "text/plain": [
       "((150, 28, 28), (150,))"
      ]
     },
     "execution_count": 8,
     "metadata": {},
     "output_type": "execute_result"
    }
   ],
   "source": [
    "# Randomly select 150 indices from the number of test examples\n",
    "random_indices = np.random.choice(X_test.shape[0], 150, replace=False)\n",
    "\n",
    "# Use these indices to select a random sample of 150 images and their corresponding labels from the test dataset\n",
    "X_test_sample, y_test_sample = X_test[random_indices], y_test[random_indices]\n",
    "\n",
    "# Print the shapes of the sampled test images and labels to confirm their dimensions\n",
    "X_test_sample.shape, y_test_sample.shape"
   ]
  },
  {
   "cell_type": "code",
   "execution_count": 9,
   "id": "2a3f5d3d",
   "metadata": {
    "execution": {
     "iopub.execute_input": "2023-07-03T09:41:48.186848Z",
     "iopub.status.busy": "2023-07-03T09:41:48.186561Z",
     "iopub.status.idle": "2023-07-03T09:41:48.281459Z",
     "shell.execute_reply": "2023-07-03T09:41:48.280371Z"
    },
    "papermill": {
     "duration": 0.109132,
     "end_time": "2023-07-03T09:41:48.284204",
     "exception": false,
     "start_time": "2023-07-03T09:41:48.175072",
     "status": "completed"
    },
    "tags": []
   },
   "outputs": [
    {
     "data": {
      "text/plain": [
       "((22500, 2, 28, 28), (22500,))"
      ]
     },
     "execution_count": 9,
     "metadata": {},
     "output_type": "execute_result"
    }
   ],
   "source": [
    "X_test_pairs, y_test_pairs = make_paired_dataset(X_test_sample, y_test_sample)\n",
    "\n",
    "X_test_pairs.shape, y_test_pairs.shape"
   ]
  },
  {
   "cell_type": "markdown",
   "id": "7aa04a7c",
   "metadata": {
    "papermill": {
     "duration": 0.01045,
     "end_time": "2023-07-03T09:41:48.305473",
     "exception": false,
     "start_time": "2023-07-03T09:41:48.295023",
     "status": "completed"
    },
    "tags": []
   },
   "source": [
    "## Model Compilation"
   ]
  },
  {
   "cell_type": "code",
   "execution_count": 10,
   "id": "2d245dc7",
   "metadata": {
    "execution": {
     "iopub.execute_input": "2023-07-03T09:41:48.328884Z",
     "iopub.status.busy": "2023-07-03T09:41:48.328264Z",
     "iopub.status.idle": "2023-07-03T09:41:48.345721Z",
     "shell.execute_reply": "2023-07-03T09:41:48.344881Z"
    },
    "papermill": {
     "duration": 0.031508,
     "end_time": "2023-07-03T09:41:48.347737",
     "exception": false,
     "start_time": "2023-07-03T09:41:48.316229",
     "status": "completed"
    },
    "tags": []
   },
   "outputs": [],
   "source": [
    "model.compile(loss='binary_crossentropy',\n",
    "              optimizer=tf.keras.optimizers.Adam(learning_rate=0.001),\n",
    "              metrics=['accuracy'])"
   ]
  },
  {
   "cell_type": "markdown",
   "id": "1bad3bc0",
   "metadata": {
    "papermill": {
     "duration": 0.010248,
     "end_time": "2023-07-03T09:41:48.368643",
     "exception": false,
     "start_time": "2023-07-03T09:41:48.358395",
     "status": "completed"
    },
    "tags": []
   },
   "source": [
    "## Instantiate the EarlyStopping callback"
   ]
  },
  {
   "cell_type": "code",
   "execution_count": 11,
   "id": "4e56d007",
   "metadata": {
    "execution": {
     "iopub.execute_input": "2023-07-03T09:41:48.391752Z",
     "iopub.status.busy": "2023-07-03T09:41:48.390878Z",
     "iopub.status.idle": "2023-07-03T09:41:48.396561Z",
     "shell.execute_reply": "2023-07-03T09:41:48.395697Z"
    },
    "papermill": {
     "duration": 0.019294,
     "end_time": "2023-07-03T09:41:48.398559",
     "exception": false,
     "start_time": "2023-07-03T09:41:48.379265",
     "status": "completed"
    },
    "tags": []
   },
   "outputs": [],
   "source": [
    "from tensorflow.keras.callbacks import EarlyStopping\n",
    "\n",
    "# If the model's validation loss doesn't improve for 3 consecutive epochs, \n",
    "# the training will be stopped to prevent overfitting\n",
    "es = EarlyStopping(patience=3)"
   ]
  },
  {
   "cell_type": "markdown",
   "id": "56ba9e80",
   "metadata": {
    "papermill": {
     "duration": 0.010432,
     "end_time": "2023-07-03T09:41:48.419772",
     "exception": false,
     "start_time": "2023-07-03T09:41:48.409340",
     "status": "completed"
    },
    "tags": []
   },
   "source": [
    "# Training Siamese model"
   ]
  },
  {
   "cell_type": "code",
   "execution_count": 12,
   "id": "204d9108",
   "metadata": {
    "execution": {
     "iopub.execute_input": "2023-07-03T09:41:48.442406Z",
     "iopub.status.busy": "2023-07-03T09:41:48.441603Z",
     "iopub.status.idle": "2023-07-03T09:49:35.476887Z",
     "shell.execute_reply": "2023-07-03T09:49:35.475922Z"
    },
    "papermill": {
     "duration": 467.048929,
     "end_time": "2023-07-03T09:49:35.479138",
     "exception": false,
     "start_time": "2023-07-03T09:41:48.430209",
     "status": "completed"
    },
    "tags": []
   },
   "outputs": [
    {
     "name": "stdout",
     "output_type": "stream",
     "text": [
      "Epoch 1/100\n",
      "1969/1969 [==============================] - 70s 30ms/step - loss: 0.2530 - accuracy: 0.9053 - val_loss: 0.1697 - val_accuracy: 0.9293\n",
      "Epoch 2/100\n",
      "1969/1969 [==============================] - 58s 30ms/step - loss: 0.0881 - accuracy: 0.9629 - val_loss: 0.0976 - val_accuracy: 0.9660\n",
      "Epoch 3/100\n",
      "1969/1969 [==============================] - 55s 28ms/step - loss: 0.0225 - accuracy: 0.9927 - val_loss: 0.0103 - val_accuracy: 0.9977\n",
      "Epoch 4/100\n",
      "1969/1969 [==============================] - 58s 29ms/step - loss: 0.0121 - accuracy: 0.9959 - val_loss: 0.0254 - val_accuracy: 0.9906\n",
      "Epoch 5/100\n",
      "1969/1969 [==============================] - 58s 29ms/step - loss: 0.0076 - accuracy: 0.9975 - val_loss: 0.0021 - val_accuracy: 0.9996\n",
      "Epoch 6/100\n",
      "1969/1969 [==============================] - 55s 28ms/step - loss: 0.0067 - accuracy: 0.9981 - val_loss: 0.0027 - val_accuracy: 0.9993\n",
      "Epoch 7/100\n",
      "1969/1969 [==============================] - 58s 29ms/step - loss: 0.0060 - accuracy: 0.9982 - val_loss: 0.0324 - val_accuracy: 0.9890\n",
      "Epoch 8/100\n",
      "1969/1969 [==============================] - 55s 28ms/step - loss: 0.0040 - accuracy: 0.9987 - val_loss: 0.0208 - val_accuracy: 0.9927\n"
     ]
    },
    {
     "data": {
      "text/plain": [
       "<keras.callbacks.History at 0x7b2e41ab1ea0>"
      ]
     },
     "execution_count": 12,
     "metadata": {},
     "output_type": "execute_result"
    }
   ],
   "source": [
    "model.fit(\n",
    "    # Feed the pairs of training images into the model\n",
    "    # X_train_pairs[:, 0, :, :] represents the first image in each pair\n",
    "    # X_train_pairs[:, 1, :, :] represents the second image in each pair\n",
    "    [X_train_pairs[:, 0, :, :], X_train_pairs[:, 1, :, :]],\n",
    "          y=y_train_pairs,\n",
    "          validation_split=0.3, \n",
    "          epochs=100,\n",
    "          batch_size=32,\n",
    "          callbacks=[es])"
   ]
  },
  {
   "cell_type": "markdown",
   "id": "b591303a",
   "metadata": {
    "papermill": {
     "duration": 0.47506,
     "end_time": "2023-07-03T09:49:36.402117",
     "exception": false,
     "start_time": "2023-07-03T09:49:35.927057",
     "status": "completed"
    },
    "tags": []
   },
   "source": [
    "## Testing Model's Efficacy"
   ]
  },
  {
   "cell_type": "code",
   "execution_count": 13,
   "id": "0cb07c1d",
   "metadata": {
    "execution": {
     "iopub.execute_input": "2023-07-03T09:49:37.275890Z",
     "iopub.status.busy": "2023-07-03T09:49:37.275533Z",
     "iopub.status.idle": "2023-07-03T09:49:37.282219Z",
     "shell.execute_reply": "2023-07-03T09:49:37.281370Z"
    },
    "papermill": {
     "duration": 0.451589,
     "end_time": "2023-07-03T09:49:37.284383",
     "exception": false,
     "start_time": "2023-07-03T09:49:36.832794",
     "status": "completed"
    },
    "tags": []
   },
   "outputs": [
    {
     "data": {
      "text/plain": [
       "(7, 7)"
      ]
     },
     "execution_count": 13,
     "metadata": {},
     "output_type": "execute_result"
    }
   ],
   "source": [
    "# Select the first and eighteenth image from the test dataset\n",
    "img_A, img_B = X_test[0], X_test[17]\n",
    "\n",
    "# Get the corresponding labels of the selected images\n",
    "label_A, label_B = y_test[0], y_test[17]\n",
    "\n",
    "# Print the labels of the selected images\n",
    "label_A, label_B"
   ]
  },
  {
   "cell_type": "code",
   "execution_count": 14,
   "id": "f0a85f1b",
   "metadata": {
    "execution": {
     "iopub.execute_input": "2023-07-03T09:49:38.143673Z",
     "iopub.status.busy": "2023-07-03T09:49:38.142986Z",
     "iopub.status.idle": "2023-07-03T09:50:13.373610Z",
     "shell.execute_reply": "2023-07-03T09:50:13.372706Z"
    },
    "papermill": {
     "duration": 35.95991,
     "end_time": "2023-07-03T09:50:13.667177",
     "exception": false,
     "start_time": "2023-07-03T09:49:37.707267",
     "status": "completed"
    },
    "tags": []
   },
   "outputs": [
    {
     "data": {
      "text/plain": [
       "<matplotlib.image.AxesImage at 0x7b2e419150f0>"
      ]
     },
     "execution_count": 14,
     "metadata": {},
     "output_type": "execute_result"
    },
    {
     "data": {
      "image/png": "[encoded data removed]",
      "text/plain": [
       "<Figure size 179.2x134.4 with 1 Axes>"
      ]
     },
     "metadata": {},
     "output_type": "display_data"
    }
   ],
   "source": [
    "import matplotlib.pyplot as plt\n",
    "\n",
    "# Create new figure with set DPI=28, as MNIST image =(28,28)\n",
    "plt.figure(dpi=28)\n",
    "\n",
    "# Display img_A\n",
    "plt.imshow(img_A)"
   ]
  },
  {
   "cell_type": "code",
   "execution_count": 15,
   "id": "4c4c9d60",
   "metadata": {
    "execution": {
     "iopub.execute_input": "2023-07-03T09:50:14.504958Z",
     "iopub.status.busy": "2023-07-03T09:50:14.504589Z",
     "iopub.status.idle": "2023-07-03T09:50:14.728871Z",
     "shell.execute_reply": "2023-07-03T09:50:14.727877Z"
    },
    "papermill": {
     "duration": 0.648418,
     "end_time": "2023-07-03T09:50:14.730888",
     "exception": false,
     "start_time": "2023-07-03T09:50:14.082470",
     "status": "completed"
    },
    "tags": []
   },
   "outputs": [
    {
     "data": {
      "text/plain": [
       "<matplotlib.image.AxesImage at 0x7b2e40691b10>"
      ]
     },
     "execution_count": 15,
     "metadata": {},
     "output_type": "execute_result"
    },
    {
     "data": {
      "image/png": "[encoded data removed]",
      "text/plain": [
       "<Figure size 179.2x134.4 with 1 Axes>"
      ]
     },
     "metadata": {},
     "output_type": "display_data"
    }
   ],
   "source": [
    "plt.figure(dpi=28)\n",
    "\n",
    "# Display img_B\n",
    "plt.imshow(img_B)"
   ]
  },
  {
   "cell_type": "markdown",
   "id": "43952580",
   "metadata": {
    "papermill": {
     "duration": 0.42409,
     "end_time": "2023-07-03T09:50:15.577080",
     "exception": false,
     "start_time": "2023-07-03T09:50:15.152990",
     "status": "completed"
    },
    "tags": []
   },
   "source": [
    "## Comparing Images with Siamese Neural Network: Binary Classification"
   ]
  },
  {
   "cell_type": "code",
   "execution_count": 16,
   "id": "50700ac8",
   "metadata": {
    "execution": {
     "iopub.execute_input": "2023-07-03T09:50:16.462123Z",
     "iopub.status.busy": "2023-07-03T09:50:16.461726Z",
     "iopub.status.idle": "2023-07-03T09:50:16.886124Z",
     "shell.execute_reply": "2023-07-03T09:50:16.885152Z"
    },
    "papermill": {
     "duration": 0.849415,
     "end_time": "2023-07-03T09:50:16.890156",
     "exception": false,
     "start_time": "2023-07-03T09:50:16.040741",
     "status": "completed"
    },
    "tags": []
   },
   "outputs": [
    {
     "name": "stdout",
     "output_type": "stream",
     "text": [
      "1/1 [==============================] - 0s 371ms/step\n"
     ]
    },
    {
     "data": {
      "text/plain": [
       "True"
      ]
     },
     "execution_count": 16,
     "metadata": {},
     "output_type": "execute_result"
    }
   ],
   "source": [
    "# Predict if img_A and img_B are from the same class (True if prediction > 0.5)\n",
    "model.predict([img_A.reshape((1, 28, 28)), \n",
    "               img_B.reshape((1, 28, 28))]).flatten()[0] > 0.5"
   ]
  },
  {
   "cell_type": "markdown",
   "id": "8d45f73a",
   "metadata": {
    "papermill": {
     "duration": 0.42127,
     "end_time": "2023-07-03T09:50:17.736629",
     "exception": false,
     "start_time": "2023-07-03T09:50:17.315359",
     "status": "completed"
    },
    "tags": []
   },
   "source": [
    "As predicted value is greater than 0.5, the output is True, indicating the model believes the images are of the same class"
   ]
  }
 ],
 "metadata": {
  "kernelspec": {
   "display_name": "Python 3",
   "language": "python",
   "name": "python3"
  },
  "language_info": {
   "codemirror_mode": {
    "name": "ipython",
    "version": 3
   },
   "file_extension": ".py",
   "mimetype": "text/x-python",
   "name": "python",
   "nbconvert_exporter": "python",
   "pygments_lexer": "ipython3",
   "version": "3.10.10"
  },
  "papermill": {
   "default_parameters": {},
   "duration": 538.067211,
   "end_time": "2023-07-03T09:50:21.819716",
   "environment_variables": {},
   "exception": null,
   "input_path": "__notebook__.ipynb",
   "output_path": "__notebook__.ipynb",
   "parameters": {},
   "start_time": "2023-07-03T09:41:23.752505",
   "version": "2.4.0"
  }
 },
 "nbformat": 4,
 "nbformat_minor": 5
}
